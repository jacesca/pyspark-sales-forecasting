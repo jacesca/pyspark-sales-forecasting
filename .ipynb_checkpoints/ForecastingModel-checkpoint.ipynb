{
 "cells": [
  {
   "cell_type": "markdown",
   "id": "f11da6aa-0e68-426a-9df3-43d89beb0ecb",
   "metadata": {},
   "source": [
    "# Building a Demand Forecasting Model\n",
    "\n",
    "Use PySpark to build an e-commerce forecasting model!\n",
    "\n",
    "## Project Description\n",
    "\n",
    "Predict e-commerce product demand using PySpark to answer business questions regarding supply chain efficiency.\n",
    "\n",
    "### Instructions\n",
    "Analyze the Online Retail.csv dataset and build a forecasting model to predict 'Quantity' of products sold.\n",
    "\n",
    "1. Split the data into two sets based on the splitting date, `\"2011-09-25\"`. All data up to and including this date should be in the training set, while data after this date should be in the test set. Return a pandas DataFrame, `pd_daily_train_data`, containing, at least, the columns `\"Country\"`, `\"StockCode\"`, `\"InvoiceDate\"`, `\"Quantity\"`.\n",
    "\n",
    "2. Using your test set, calculate the Mean Absolute Error (MAE) for your forecast model for the `'Quantity'` sold? Return a double (float) named `mae`.\n",
    "\n",
    "3. How many units are expected to be sold during the week 39 of 2011? Store as an integer variable called `quantity_sold_w39`."
   ]
  },
  {
   "cell_type": "markdown",
   "id": "6918e18a-c248-4929-b552-7aee2057c0eb",
   "metadata": {},
   "source": [
    "## Problem\n",
    "![Shopping trolley in front of a laptop](images/iStock-1249219777.jpg)\n",
    "\n",
    "It's simple to buy any product with a click and have it delivered to your door. Online shopping has been rapidly evolving over the last few years, making our lives easier. But behind the scenes, e-commerce companies face a complex challenge that needs to be addressed. \n",
    "\n",
    "Uncertainty plays a big role in how the supply chains plan and organize their operations to ensure that the products are delivered on time. These uncertainties can lead to challenges such as stockouts, delayed deliveries, and increased operational costs.\n",
    "\n",
    "You work for the Sales & Operations Planning (S&OP) team at a multinational e-commerce company. They need your help to assist in planning for the upcoming end-of-the-year sales. They want to use your insights to plan for promotional opportunities and manage their inventory. This effort is to ensure they have the right products in stock when needed and ensure their customers are satisfied with the prompt delivery to their doorstep.\n",
    "\n",
    "\n",
    "## The Data\n",
    "\n",
    "You are provided with a sales dataset to use. A summary and preview are provided below.\n",
    "\n",
    "\n",
    "### [Online Retail.csv](http://localhost:8888/edit/data-sources/Online%20Retail.csv)\n",
    "\n",
    "| Column     | Description              |\n",
    "|------------|--------------------------|\n",
    "| `'InvoiceNo'` | A 6-digit number uniquely assigned to each transaction |\n",
    "| `'StockCode'` | A 5-digit number uniquely assigned to each distinct product |\n",
    "| `'Description'` | The product name |\n",
    "| `'Quantity'` | The quantity of each product (item) per transaction |\n",
    "| `'UnitPrice'` | Product price per unit |\n",
    "| `'CustomerID'` | A 5-digit number uniquely assigned to each customer |\n",
    "| `'Country'` | The name of the country where each customer resides |\n",
    "| `'InvoiceDate'` | The day and time when each transaction was generated `\"MM/DD/YYYY\"` |\n",
    "| `'Year'` | The year when each transaction was generated |\n",
    "| `'Month'` | The month when each transaction was generated |\n",
    "| `'Week'` | The week when each transaction was generated (`1`-`52`) |\n",
    "| `'Day'` | The day of the month when each transaction was generated (`1`-`31`) |\n",
    "| `'DayOfWeek'` | The day of the weeke when each transaction was generated <br>(`0` = Monday, `6` = Sunday) |"
   ]
  },
  {
   "cell_type": "markdown",
   "id": "493d1c44-5b45-4920-95e1-6d576a13dd99",
   "metadata": {},
   "source": [
    "# Preparing the environment\n",
    "\n",
    "## Importing libraries"
   ]
  },
  {
   "cell_type": "code",
   "execution_count": 1,
   "id": "c7f88573-cbfd-48d4-b214-3b2345150248",
   "metadata": {},
   "outputs": [],
   "source": [
    "# Import required libraries\n",
    "import time\n",
    "import matplotlib.pyplot as plt\n",
    "import pandas as pd\n",
    "\n",
    "from pyspark.ml import Pipeline\n",
    "from pyspark.ml.evaluation import RegressionEvaluator\n",
    "from pyspark.ml.feature import OneHotEncoder, StringIndexer, VectorAssembler\n",
    "from pyspark.ml.regression import RandomForestRegressor, LinearRegression\n",
    "from pyspark.ml.tuning import CrossValidator, ParamGridBuilder\n",
    "from pyspark.sql import SparkSession, functions as F\n",
    "from pyspark.sql.types import StructType, StructField, DoubleType, IntegerType, StringType, DateType\n",
    "from pyspark_dist_explore import hist"
   ]
  },
  {
   "cell_type": "markdown",
   "id": "4f4c94c9-412f-4ac3-aa1f-4acb8f63cd26",
   "metadata": {},
   "source": [
    "## Global variables"
   ]
  },
  {
   "cell_type": "code",
   "execution_count": 2,
   "id": "a16c0743-b4e8-4c57-a38e-04fb45f3d303",
   "metadata": {},
   "outputs": [],
   "source": [
    "SEED = 42"
   ]
  },
  {
   "cell_type": "markdown",
   "id": "63dde646-4bf2-48dd-865f-ef06eb60b8a7",
   "metadata": {},
   "source": [
    "## Util functions"
   ]
  },
  {
   "cell_type": "code",
   "execution_count": 3,
   "id": "d2b9fc9b-98e0-4d24-a7f3-3228b048b9c9",
   "metadata": {},
   "outputs": [],
   "source": [
    "def split_data_by_date(df_original, split_col, split_date):\n",
    "    '''Return dataset splitted in two sets: training and testing'''\n",
    "\n",
    "    train_df = df_original.where(df_original[split_col] <= split_date) \n",
    "    test_df = df_original.where(df_original[split_col] > split_date)\n",
    "    return train_df, test_df"
   ]
  },
  {
   "cell_type": "markdown",
   "id": "d047a325-e478-4468-a3df-47ebfb1f510c",
   "metadata": {},
   "source": [
    "## Connect to Spark"
   ]
  },
  {
   "cell_type": "code",
   "execution_count": 4,
   "id": "5ad16c1c-909e-43f8-94b6-c0de480059d3",
   "metadata": {},
   "outputs": [
    {
     "name": "stdout",
     "output_type": "stream",
     "text": [
      "Spark version: 3.5.1\n"
     ]
    }
   ],
   "source": [
    "# Initialize Spark session\n",
    "spark = (SparkSession.builder\n",
    "                     .master('local[*]')\n",
    "                     .appName('SalesForecast')\n",
    "                     .config(\"spark.sql.repl.eagerEval.enabled\", True)\n",
    "                     .config(\"spark.driver.memory\", \"10g\")\n",
    "                     .config(\"spark.driver.maxResultSize\", \"10G\")\n",
    "                     .getOrCreate())\n",
    "\n",
    "\n",
    "sc = spark.sparkContext\n",
    "sc.setSystemProperty('spark.executor.memory', '10G')\n",
    "sc.setCheckpointDir(\"ml-checkpoint/\")\n",
    "print(f'Spark version: {spark.version}')"
   ]
  },
  {
   "cell_type": "markdown",
   "id": "0b6a5b57-0b50-445d-984e-013bb8562359",
   "metadata": {},
   "source": [
    "## Loading data"
   ]
  },
  {
   "cell_type": "code",
   "execution_count": 5,
   "id": "03180fa2-1e16-4527-8a31-7b8d45de7cbf",
   "metadata": {},
   "outputs": [
    {
     "name": "stdout",
     "output_type": "stream",
     "text": [
      "Dataframe shape: (384721, 13)\n",
      "root\n",
      " |-- InvoiceNo: integer (nullable = true)\n",
      " |-- StockCode: string (nullable = true)\n",
      " |-- Description: string (nullable = true)\n",
      " |-- Quantity: integer (nullable = true)\n",
      " |-- UnitPrice: double (nullable = true)\n",
      " |-- CustomerID: integer (nullable = true)\n",
      " |-- Country: string (nullable = true)\n",
      " |-- InvoiceDate: date (nullable = true)\n",
      " |-- Year: integer (nullable = true)\n",
      " |-- Month: integer (nullable = true)\n",
      " |-- Week: integer (nullable = true)\n",
      " |-- Day: integer (nullable = true)\n",
      " |-- DayOfWeek: integer (nullable = true)\n",
      "\n"
     ]
    },
    {
     "data": {
      "text/html": [
       "<table border='1'>\n",
       "<tr><th>InvoiceNo</th><th>StockCode</th><th>Description</th><th>Quantity</th><th>UnitPrice</th><th>CustomerID</th><th>Country</th><th>InvoiceDate</th><th>Year</th><th>Month</th><th>Week</th><th>Day</th><th>DayOfWeek</th></tr>\n",
       "<tr><td>536365</td><td>85123A</td><td>WHITE HANGING HEA...</td><td>6</td><td>2.55</td><td>17850</td><td>United Kingdom</td><td>2010-01-12</td><td>2010</td><td>1</td><td>2</td><td>12</td><td>1</td></tr>\n",
       "<tr><td>536365</td><td>71053</td><td>WHITE METAL LANTERN</td><td>6</td><td>3.39</td><td>17850</td><td>United Kingdom</td><td>2010-01-12</td><td>2010</td><td>1</td><td>2</td><td>12</td><td>1</td></tr>\n",
       "</table>\n"
      ],
      "text/plain": [
       "+---------+---------+--------------------+--------+---------+----------+--------------+-----------+----+-----+----+---+---------+\n",
       "|InvoiceNo|StockCode|         Description|Quantity|UnitPrice|CustomerID|       Country|InvoiceDate|Year|Month|Week|Day|DayOfWeek|\n",
       "+---------+---------+--------------------+--------+---------+----------+--------------+-----------+----+-----+----+---+---------+\n",
       "|   536365|   85123A|WHITE HANGING HEA...|       6|     2.55|     17850|United Kingdom| 2010-01-12|2010|    1|   2| 12|        1|\n",
       "|   536365|    71053| WHITE METAL LANTERN|       6|     3.39|     17850|United Kingdom| 2010-01-12|2010|    1|   2| 12|        1|\n",
       "+---------+---------+--------------------+--------+---------+----------+--------------+-----------+----+-----+----+---+---------+"
      ]
     },
     "execution_count": 5,
     "metadata": {},
     "output_type": "execute_result"
    }
   ],
   "source": [
    "# Importing sales data\n",
    "schema_sales = StructType([\n",
    "    StructField(\"InvoiceNo\", IntegerType()),\n",
    "    StructField(\"StockCode\", StringType()),\n",
    "    StructField(\"Description\", StringType()),\n",
    "    StructField(\"Quantity\", IntegerType()),\n",
    "    StructField(\"UnitPrice\", DoubleType()),\n",
    "    StructField(\"CustomerID\", IntegerType()),\n",
    "    StructField(\"Country\", StringType()),\n",
    "    StructField(\"InvoiceDate\", DateType()),\n",
    "    StructField(\"Year\", IntegerType()),\n",
    "    StructField(\"Month\", IntegerType()),\n",
    "    StructField(\"Week\", IntegerType()),\n",
    "    StructField(\"Day\", IntegerType()),\n",
    "    StructField(\"DayOfWeek\", IntegerType())\n",
    "])\n",
    "sales_data = spark.read.csv('data-sources/Online Retail.csv', header=True, schema=schema_sales)\n",
    "\n",
    "# Reviewing the result\n",
    "sales_data.createOrReplaceTempView(\"sales\")\n",
    "print(f'Dataframe shape: ({sales_data.count()}, {len(sales_data.columns)})')\n",
    "sales_data.printSchema()\n",
    "sales_data.limit(2)"
   ]
  },
  {
   "cell_type": "markdown",
   "id": "a9839bf5-94df-4e2b-8f8c-ee85612c1a5c",
   "metadata": {},
   "source": [
    "### EDA"
   ]
  },
  {
   "cell_type": "code",
   "execution_count": 6,
   "id": "77ce3372-2c76-44ee-91a4-fd056d1019e7",
   "metadata": {},
   "outputs": [
    {
     "name": "stdout",
     "output_type": "stream",
     "text": [
      "\n",
      "Date range: 2010-01-12 - 2011-12-10\n",
      "How many stockcode are there? 3649\n",
      "How many Description are there? 3857\n",
      "How many CustomerID are there? 4261\n",
      "How many DayOfWeek are there? 7\n",
      "How many Country are there? 37\n",
      "Top Total Sales by country?\n",
      "\n",
      "+--------------------+-------------------------------------+\n",
      "|             Country|round(sum((Quantity * UnitPrice)), 1)|\n",
      "+--------------------+-------------------------------------+\n",
      "|      United Kingdom|                            5119920.0|\n",
      "|             Germany|                             185184.7|\n",
      "|                EIRE|                             169065.7|\n",
      "|              France|                             158394.0|\n",
      "|         Netherlands|                              62691.5|\n",
      "|         Switzerland|                              45592.0|\n",
      "|               Spain|                              42438.5|\n",
      "|           Australia|                              36308.0|\n",
      "|             Belgium|                              35591.3|\n",
      "|              Norway|                              28607.4|\n",
      "|            Portugal|                              26007.0|\n",
      "|     Channel Islands|                              17164.9|\n",
      "|             Denmark|                              15516.9|\n",
      "|               Italy|                              15220.2|\n",
      "|               Japan|                              14729.0|\n",
      "|             Finland|                              14263.5|\n",
      "|              Cyprus|                              12395.9|\n",
      "|              Sweden|                               8577.8|\n",
      "|           Singapore|                               8088.5|\n",
      "|             Austria|                               7947.8|\n",
      "|              Poland|                               6898.3|\n",
      "|              Israel|                               6610.4|\n",
      "|              Greece|                               4425.5|\n",
      "|             Iceland|                               4060.4|\n",
      "|                 USA|                               3486.8|\n",
      "|         Unspecified|                               2667.1|\n",
      "|              Canada|                               2520.7|\n",
      "|               Malta|                               2070.6|\n",
      "|United Arab Emirates|                               1756.8|\n",
      "|             Lebanon|                               1693.9|\n",
      "|           Lithuania|                               1661.1|\n",
      "|  European Community|                               1159.3|\n",
      "|              Brazil|                               1143.6|\n",
      "|                 RSA|                               1002.3|\n",
      "|      Czech Republic|                                745.0|\n",
      "|             Bahrain|                                353.4|\n",
      "|        Saudi Arabia|                                145.9|\n",
      "+--------------------+-------------------------------------+\n",
      "\n"
     ]
    }
   ],
   "source": [
    "# Reviewing a little bit more the data\n",
    "date_range = sales_data.agg(F.min('InvoiceDate'), F.max('InvoiceDate')).collect()\n",
    "print(f'''\n",
    "Date range: {date_range[0][0]} - {date_range[0][1]}\n",
    "How many stockcode are there? {sales_data.select('StockCode').distinct().count()}\n",
    "How many Description are there? {sales_data.select('Description').distinct().count()}\n",
    "How many CustomerID are there? {sales_data.select('CustomerID').distinct().count()}\n",
    "How many DayOfWeek are there? {sales_data.select('DayOfWeek').distinct().count()}\n",
    "How many Country are there? {sales_data.select('Country').distinct().count()}\n",
    "Top Total Sales by country?\n",
    "''')\n",
    "(sales_data.groupby('Country')\n",
    "           .agg(F.round(F.sum(F.col('Quantity') * F.col('UnitPrice')), 1))\n",
    "           .sort('round(sum((Quantity * UnitPrice)), 1)', ascending=False)\n",
    "           .show(37))"
   ]
  },
  {
   "cell_type": "code",
   "execution_count": 7,
   "id": "dc6c0e9b-95af-4853-8592-65192d353e7a",
   "metadata": {},
   "outputs": [
    {
     "data": {
      "image/png": "[encoded data removed]",
      "text/plain": [
       "<Figure size 640x480 with 1 Axes>"
      ]
     },
     "metadata": {},
     "output_type": "display_data"
    }
   ],
   "source": [
    "fig, ax = plt.subplots()\n",
    "hist(ax, sales_data.select('Quantity'))\n",
    "ax.set_xlabel('Quantity')\n",
    "ax.set_ylabel('count')\n",
    "plt.title('Quantity Histogram')\n",
    "plt.show()"
   ]
  },
  {
   "cell_type": "code",
   "execution_count": 8,
   "id": "91f34bb3-ac22-42cc-927e-9c714e70303c",
   "metadata": {},
   "outputs": [
    {
     "data": {
      "image/png": "[encoded data removed]",
      "text/plain": [
       "<Figure size 640x480 with 1 Axes>"
      ]
     },
     "metadata": {},
     "output_type": "display_data"
    }
   ],
   "source": [
    "sales_data.select('Quantity').toPandas().Quantity.hist()\n",
    "plt.title('Quantity Histogram')\n",
    "plt.xlabel('Quantity')\n",
    "plt.ylabel('count')\n",
    "plt.show()"
   ]
  },
  {
   "cell_type": "markdown",
   "id": "b6aae36e-2c8e-4e50-91e3-a6fa75f9f608",
   "metadata": {},
   "source": [
    "### Counting null values"
   ]
  },
  {
   "cell_type": "code",
   "execution_count": 9,
   "id": "6282e8f1-443f-4fc1-a639-b95d35d56951",
   "metadata": {},
   "outputs": [
    {
     "data": {
      "text/plain": [
       "{}"
      ]
     },
     "execution_count": 9,
     "metadata": {},
     "output_type": "execute_result"
    }
   ],
   "source": [
    "# How many null there are\n",
    "Dict_Null = {col: sales_data.filter(sales_data[f\"`{col}`\"].isNull()).count() for col in sales_data.columns}\n",
    "Dict_Null = {k: v for k, v in Dict_Null.items() if v != 0}\n",
    "Dict_Null"
   ]
  },
  {
   "cell_type": "markdown",
   "id": "3fb1f4da-e7a6-426c-86e7-07359929f239",
   "metadata": {
    "collapsed": false,
    "executionCancelledAt": null,
    "executionTime": 46,
    "jupyter": {
     "outputs_hidden": false,
     "source_hidden": false
    },
    "lastExecutedAt": 1706210604740,
    "lastScheduledRunId": null,
    "lastSuccessfullyExecutedCode": "# Insert the code necessary to solve the assigned problems. Use as many code cells as you need.\n"
   },
   "source": [
    "# How to approach the project\n",
    "\n",
    "1. Aggregate the data\n",
    "2. Splitting your dataset\n",
    "3. Building your regression model\n",
    "4. Evaluating the model\n",
    "5. Identify the quantity sold at specific week"
   ]
  },
  {
   "cell_type": "markdown",
   "id": "a886e537-20fa-46e7-b811-499a87448389",
   "metadata": {},
   "source": [
    "## 1. Aggregate the data"
   ]
  },
  {
   "cell_type": "code",
   "execution_count": 10,
   "id": "b0133f73-2635-4aa0-a0f0-56b7b69c47ca",
   "metadata": {},
   "outputs": [
    {
     "name": "stdout",
     "output_type": "stream",
     "text": [
      "There are 11 partitions in the df DataFrame.\n",
      "+-----------+----+-----+----+---+---------+--------------+---------+---------+--------+\n",
      "|InvoiceDate|Year|Month|Week|Day|DayOfWeek|Country       |StockCode|UnitPrice|Quantity|\n",
      "+-----------+----+-----+----+---+---------+--------------+---------+---------+--------+\n",
      "|2010-07-12 |2010|7    |28  |12 |0        |United Kingdom|20782    |5.49     |4       |\n",
      "|2010-07-12 |2010|7    |28  |12 |0        |United Kingdom|21135    |1.69     |8       |\n",
      "|2010-07-12 |2010|7    |28  |12 |0        |United Kingdom|21175    |2.1      |26      |\n",
      "|2010-07-12 |2010|7    |28  |12 |0        |United Kingdom|21397    |1.25     |12      |\n",
      "|2010-07-12 |2010|7    |28  |12 |0        |United Kingdom|21411    |4.25     |7       |\n",
      "|2010-07-12 |2010|7    |28  |12 |0        |United Kingdom|21624    |5.95     |3       |\n",
      "|2010-07-12 |2010|7    |28  |12 |0        |United Kingdom|21754    |5.95     |21      |\n",
      "|2010-07-12 |2010|7    |28  |12 |0        |United Kingdom|22111    |4.95     |25      |\n",
      "|2010-07-12 |2010|7    |28  |12 |0        |United Kingdom|22318    |2.95     |6       |\n",
      "|2010-07-12 |2010|7    |28  |12 |0        |United Kingdom|22445    |2.95     |6       |\n",
      "+-----------+----+-----+----+---+---------+--------------+---------+---------+--------+\n",
      "only showing top 10 rows\n",
      "\n"
     ]
    }
   ],
   "source": [
    "# Group the data into daily sales intervals.\n",
    "df = sales_data.select('*').sort('InvoiceDate').repartition('Year', 'Month')\n",
    "print(\"There are %d partitions in the df DataFrame.\" % df.rdd.getNumPartitions())\n",
    "\n",
    "df = (df.groupby(['InvoiceDate', 'Year', 'Month', 'Week', 'Day', 'DayOfWeek', 'Country', 'StockCode'])\n",
    "        .agg({'Quantity': 'sum', 'UnitPrice': 'avg'})\n",
    "        .withColumnRenamed('sum(Quantity)', 'Quantity')\n",
    "        .withColumnRenamed('avg(UnitPrice)', 'UnitPrice')\n",
    "        .withColumn('UnitPrice', F.round(F.col('UnitPrice'), 2)))\n",
    "df.show(10, truncate=False)"
   ]
  },
  {
   "cell_type": "markdown",
   "id": "f7d51bb0-2dc5-4993-980c-cf97e8ed986a",
   "metadata": {},
   "source": [
    "## 2. Feature Selection"
   ]
  },
  {
   "cell_type": "code",
   "execution_count": 11,
   "id": "acf425b3-51b7-4682-a1b3-2434137fbef7",
   "metadata": {},
   "outputs": [],
   "source": [
    "# setting the label and features columns\n",
    "label_col = 'Quantity'\n",
    "feature_cols = ['CountryIdx', 'StockCodeIdx', 'Year', 'Month', 'Week', 'Day', 'DayOfWeek', 'UnitPrice']\n",
    "\n",
    "# Setting steps \n",
    "indexer_country = StringIndexer(inputCol='Country', outputCol='CountryIdx', handleInvalid='keep')\n",
    "indexer_stockcode = StringIndexer(inputCol='StockCode', outputCol='StockCodeIdx', handleInvalid='keep')\n",
    "assemble = VectorAssembler(inputCols=feature_cols, outputCol='features')\n",
    "lasso = LinearRegression(labelCol=label_col, elasticNetParam=1, regParam=0.1)\n",
    "\n",
    "# Define the pipeline\n",
    "pipeline = Pipeline(stages=[indexer_country, indexer_stockcode, assemble, lasso])\n",
    "model = pipeline.fit(df)"
   ]
  },
  {
   "cell_type": "code",
   "execution_count": 12,
   "id": "149732fe-1139-4169-aeda-222f4d54dc9f",
   "metadata": {},
   "outputs": [
    {
     "name": "stdout",
     "output_type": "stream",
     "text": [
      "\n",
      "Intercept: 17.206994696611538\n",
      "Coefficients:\n",
      "[-0.03994771401411925,-0.003240622342909974,0.0,0.031455730925007926,0.024356196989047257,0.0,-0.15463443868163312,-0.5756509531298581]\n",
      "\n",
      "Feature cols: ['CountryIdx', 'StockCodeIdx', 'Year', 'Month', 'Week', 'Day', 'DayOfWeek', 'UnitPrice']\n",
      "Encoded categos (country): ['United Kingdom', 'Germany', 'France']...\n",
      "Encoded categos (stockcode): ['22423', '20725', '22326']...\n",
      "\n"
     ]
    },
    {
     "data": {
      "text/html": [
       "<style type=\"text/css\">\n",
       "#T_93201_row3_col2, #T_93201_row6_col2 {\n",
       "  background-color: red;\n",
       "}\n",
       "</style>\n",
       "<table id=\"T_93201\">\n",
       "  <thead>\n",
       "    <tr>\n",
       "      <th class=\"blank level0\" >&nbsp;</th>\n",
       "      <th id=\"T_93201_level0_col0\" class=\"col_heading level0 col0\" >Slope</th>\n",
       "      <th id=\"T_93201_level0_col1\" class=\"col_heading level0 col1\" >Feature</th>\n",
       "      <th id=\"T_93201_level0_col2\" class=\"col_heading level0 col2\" >LR</th>\n",
       "    </tr>\n",
       "  </thead>\n",
       "  <tbody>\n",
       "    <tr>\n",
       "      <th id=\"T_93201_level0_row0\" class=\"row_heading level0 row0\" >0</th>\n",
       "      <td id=\"T_93201_row0_col0\" class=\"data row0 col0\" >Intercept</td>\n",
       "      <td id=\"T_93201_row0_col1\" class=\"data row0 col1\" ></td>\n",
       "      <td id=\"T_93201_row0_col2\" class=\"data row0 col2\" >17.206995</td>\n",
       "    </tr>\n",
       "    <tr>\n",
       "      <th id=\"T_93201_level0_row1\" class=\"row_heading level0 row1\" >1</th>\n",
       "      <td id=\"T_93201_row1_col0\" class=\"data row1 col0\" >Coefficients</td>\n",
       "      <td id=\"T_93201_row1_col1\" class=\"data row1 col1\" >CountryIdx</td>\n",
       "      <td id=\"T_93201_row1_col2\" class=\"data row1 col2\" >-0.039948</td>\n",
       "    </tr>\n",
       "    <tr>\n",
       "      <th id=\"T_93201_level0_row2\" class=\"row_heading level0 row2\" >2</th>\n",
       "      <td id=\"T_93201_row2_col0\" class=\"data row2 col0\" >Coefficients</td>\n",
       "      <td id=\"T_93201_row2_col1\" class=\"data row2 col1\" >StockCodeIdx</td>\n",
       "      <td id=\"T_93201_row2_col2\" class=\"data row2 col2\" >-0.003241</td>\n",
       "    </tr>\n",
       "    <tr>\n",
       "      <th id=\"T_93201_level0_row3\" class=\"row_heading level0 row3\" >3</th>\n",
       "      <td id=\"T_93201_row3_col0\" class=\"data row3 col0\" >Coefficients</td>\n",
       "      <td id=\"T_93201_row3_col1\" class=\"data row3 col1\" >Year</td>\n",
       "      <td id=\"T_93201_row3_col2\" class=\"data row3 col2\" >0.000000</td>\n",
       "    </tr>\n",
       "    <tr>\n",
       "      <th id=\"T_93201_level0_row4\" class=\"row_heading level0 row4\" >4</th>\n",
       "      <td id=\"T_93201_row4_col0\" class=\"data row4 col0\" >Coefficients</td>\n",
       "      <td id=\"T_93201_row4_col1\" class=\"data row4 col1\" >Month</td>\n",
       "      <td id=\"T_93201_row4_col2\" class=\"data row4 col2\" >0.031456</td>\n",
       "    </tr>\n",
       "    <tr>\n",
       "      <th id=\"T_93201_level0_row5\" class=\"row_heading level0 row5\" >5</th>\n",
       "      <td id=\"T_93201_row5_col0\" class=\"data row5 col0\" >Coefficients</td>\n",
       "      <td id=\"T_93201_row5_col1\" class=\"data row5 col1\" >Week</td>\n",
       "      <td id=\"T_93201_row5_col2\" class=\"data row5 col2\" >0.024356</td>\n",
       "    </tr>\n",
       "    <tr>\n",
       "      <th id=\"T_93201_level0_row6\" class=\"row_heading level0 row6\" >6</th>\n",
       "      <td id=\"T_93201_row6_col0\" class=\"data row6 col0\" >Coefficients</td>\n",
       "      <td id=\"T_93201_row6_col1\" class=\"data row6 col1\" >Day</td>\n",
       "      <td id=\"T_93201_row6_col2\" class=\"data row6 col2\" >0.000000</td>\n",
       "    </tr>\n",
       "    <tr>\n",
       "      <th id=\"T_93201_level0_row7\" class=\"row_heading level0 row7\" >7</th>\n",
       "      <td id=\"T_93201_row7_col0\" class=\"data row7 col0\" >Coefficients</td>\n",
       "      <td id=\"T_93201_row7_col1\" class=\"data row7 col1\" >DayOfWeek</td>\n",
       "      <td id=\"T_93201_row7_col2\" class=\"data row7 col2\" >-0.154634</td>\n",
       "    </tr>\n",
       "    <tr>\n",
       "      <th id=\"T_93201_level0_row8\" class=\"row_heading level0 row8\" >8</th>\n",
       "      <td id=\"T_93201_row8_col0\" class=\"data row8 col0\" >Coefficients</td>\n",
       "      <td id=\"T_93201_row8_col1\" class=\"data row8 col1\" >UnitPrice</td>\n",
       "      <td id=\"T_93201_row8_col2\" class=\"data row8 col2\" >-0.575651</td>\n",
       "    </tr>\n",
       "  </tbody>\n",
       "</table>\n"
      ],
      "text/plain": [
       "<pandas.io.formats.style.Styler at 0x23f7f8b1910>"
      ]
     },
     "execution_count": 12,
     "metadata": {},
     "output_type": "execute_result"
    }
   ],
   "source": [
    "# Reviewing intercept and coefficients\n",
    "print(f'''\n",
    "Intercept: {model.stages[-1].intercept}\n",
    "Coefficients:\n",
    "{model.stages[-1].coefficients}\n",
    "\n",
    "Feature cols: {feature_cols}\n",
    "Encoded categos (country): {model.stages[0].labels[:3]}...\n",
    "Encoded categos (stockcode): {model.stages[1].labels[:3]}...\n",
    "''')\n",
    "\n",
    "feature_importance = pd.DataFrame({\n",
    "    'Slope': ['Intercept'] + ['Coefficients']*len(model.stages[-1].coefficients),\n",
    "    'Feature': [''] + feature_cols,\n",
    "    'LR': [model.stages[-1].intercept] + list(model.stages[-1].coefficients)\n",
    "})\n",
    "feature_importance.style.map(lambda _: \"background-color: red\", \n",
    "                             subset=(feature_importance[feature_importance.LR == 0].index, \"LR\"))"
   ]
  },
  {
   "cell_type": "markdown",
   "id": "5f0f43b5-87ee-46a6-903b-81c63287c7c3",
   "metadata": {},
   "source": [
    "## 3. Splitting your dataset"
   ]
  },
  {
   "cell_type": "code",
   "execution_count": 13,
   "id": "2569843c-d364-4d17-99a7-2b4e1f82a9d4",
   "metadata": {},
   "outputs": [
    {
     "name": "stdout",
     "output_type": "stream",
     "text": [
      "Training set: 175452, Testing set: 64524\n",
      "First 5 records from Train Set:\n",
      "+-----------+----+-----+----+---+---------+----------+---------+---------+--------+\n",
      "|InvoiceDate|Year|Month|Week|Day|DayOfWeek|   Country|StockCode|UnitPrice|Quantity|\n",
      "+-----------+----+-----+----+---+---------+----------+---------+---------+--------+\n",
      "| 2010-07-12|2010|    7|  28| 12|        0|United ...|    20782|     5.49|       4|\n",
      "| 2010-07-12|2010|    7|  28| 12|        0|United ...|    21135|     1.69|       8|\n",
      "| 2010-07-12|2010|    7|  28| 12|        0|United ...|    21175|      2.1|      26|\n",
      "| 2010-07-12|2010|    7|  28| 12|        0|United ...|    21397|     1.25|      12|\n",
      "| 2010-07-12|2010|    7|  28| 12|        0|United ...|    21411|     4.25|       7|\n",
      "+-----------+----+-----+----+---+---------+----------+---------+---------+--------+\n",
      "only showing top 5 rows\n",
      "\n",
      "First 5 records from Test Set:\n",
      "+-----------+----+-----+----+---+---------+----------+---------+---------+--------+\n",
      "|InvoiceDate|Year|Month|Week|Day|DayOfWeek|   Country|StockCode|UnitPrice|Quantity|\n",
      "+-----------+----+-----+----+---+---------+----------+---------+---------+--------+\n",
      "| 2011-12-01|2011|   12|  48|  1|        3|United ...|    22502|     5.95|       4|\n",
      "| 2011-12-01|2011|   12|  48|  1|        3|United ...|    21217|     9.62|      14|\n",
      "| 2011-12-01|2011|   12|  48|  1|        3|United ...|    21257|     7.95|       5|\n",
      "| 2011-12-01|2011|   12|  48|  1|        3|United ...|    21212|     0.55|      33|\n",
      "| 2011-12-01|2011|   12|  48|  1|        3|United ...|    84991|     0.55|      50|\n",
      "+-----------+----+-----+----+---+---------+----------+---------+---------+--------+\n",
      "only showing top 5 rows\n",
      "\n"
     ]
    }
   ],
   "source": [
    "# Divide aggregated daily sales data into training and testing sets.\n",
    "df_train, df_test = split_data_by_date(df, 'InvoiceDate', \"2011-09-25\")\n",
    "print(f\"Training set: {df_train.count()}, Testing set: {df_test.count()}\")\n",
    "\n",
    "print('First 5 records from Train Set:')\n",
    "df_train.show(5, truncate=10)\n",
    "\n",
    "print('First 5 records from Test Set:')\n",
    "df_test.show(5, truncate=10)"
   ]
  },
  {
   "cell_type": "markdown",
   "id": "1d16690a-7ee2-4e7a-bf36-7387bdc81d8a",
   "metadata": {},
   "source": [
    "## 4. Building your regression model"
   ]
  },
  {
   "cell_type": "code",
   "execution_count": 14,
   "id": "60e3c384-5cd7-4ee9-8be0-8cc82d2caa6c",
   "metadata": {},
   "outputs": [
    {
     "name": "stdout",
     "output_type": "stream",
     "text": [
      "Consumed time: 0.15597056945164997 min.\n"
     ]
    }
   ],
   "source": [
    "start = time.time()\n",
    "\n",
    "# setting the label and features columns\n",
    "label_col = 'Quantity'\n",
    "feature_cols = ['CountryIdx', 'StockCodeIdx', 'Month', 'Week', 'DayOfWeek', 'UnitPrice']\n",
    "\n",
    "# Setting steps \n",
    "indexer_country = StringIndexer(inputCol='Country', outputCol='CountryIdx', handleInvalid='keep')\n",
    "indexer_stockcode = StringIndexer(inputCol='StockCode', outputCol='StockCodeIdx', handleInvalid='keep')\n",
    "# onehoter = OneHotEncoder(inputCols=['CountryIdx', 'StockCodeIdx', 'DayOfWeek'], \n",
    "#                          outputCols=feature_cols[:3])\n",
    "assemble = VectorAssembler(inputCols=feature_cols, outputCol='features')\n",
    "regressor = RandomForestRegressor(labelCol=label_col, maxBins = 4000, seed=SEED)\n",
    "\n",
    "# Define the pipeline\n",
    "pipeline = Pipeline(stages=[indexer_country, indexer_stockcode, assemble, regressor])\n",
    "\n",
    "# An object to evaluate model performance.\n",
    "evaluator = RegressionEvaluator(labelCol=label_col, metricName='mae')\n",
    "\n",
    "# # Creates a ParamGridBuilder\n",
    "# param_grid = (ParamGridBuilder().addGrid(regressor.maxBins, [4000])\n",
    "#                                 .addGrid(regressor.numTrees, [10, 20])\n",
    "#                                 .addGrid(regressor.maxDepth, [5, 10, 20])\n",
    "#                                 .build())\n",
    "# print('Number of models to be created: ', len(param_grid))\n",
    "\n",
    "# # Creates cross validator\n",
    "# cv = CrossValidator(estimator=pipeline,\n",
    "#                     estimatorParamMaps=param_grid,\n",
    "#                     evaluator=evaluator,\n",
    "#                     numFolds=2,\n",
    "#                     seed=SEED)\n",
    "\n",
    "# Apply model to the training data.\n",
    "model = pipeline.fit(df_train)\n",
    "\n",
    "# # Extract best model\n",
    "# best_model = model.bestModel\n",
    "# print(f'''\n",
    "# What's the cross-validated MAE for each model? \n",
    "# {cv.avgMetrics}\n",
    "# ''')\n",
    "\n",
    "# Time consumed\n",
    "print(f'Consumed time: {(time.time() - start)/60} min.')"
   ]
  },
  {
   "cell_type": "markdown",
   "id": "aef99437-45a0-4a73-a3fb-8e4086d40236",
   "metadata": {},
   "source": [
    "## 5. Evaluating the model"
   ]
  },
  {
   "cell_type": "code",
   "execution_count": 15,
   "id": "2f0c68a3-ddfe-45ef-8468-0992475aa175",
   "metadata": {},
   "outputs": [
    {
     "name": "stdout",
     "output_type": "stream",
     "text": [
      "\n",
      "RMSE: 15.174617349417861\n",
      " MAE: 9.300928986073616\n",
      "  R²: 0.2858911461862522\n",
      " MSE: 230.26901170125356\n",
      "\n"
     ]
    }
   ],
   "source": [
    "# Generate predictions on testing data using the best model then calculate RMSE\n",
    "predictions = model.transform(df_test)\n",
    "\n",
    "print(f'''\n",
    "RMSE: {evaluator.evaluate(predictions, {evaluator.metricName: \"rmse\"})}\n",
    " MAE: {evaluator.evaluate(predictions, {evaluator.metricName: \"mae\"})}\n",
    "  R²: {evaluator.evaluate(predictions, {evaluator.metricName: \"r2\"})}\n",
    " MSE: {evaluator.evaluate(predictions, {evaluator.metricName: \"mse\"})}\n",
    "''')"
   ]
  },
  {
   "cell_type": "markdown",
   "id": "1940ad92-3879-4e22-ad9a-c65de2cdc1ce",
   "metadata": {},
   "source": [
    "## 6. Identify the quantity sold at specific week"
   ]
  },
  {
   "cell_type": "code",
   "execution_count": 16,
   "id": "aa354d2b-ff64-46f1-af47-ef334a011002",
   "metadata": {},
   "outputs": [
    {
     "data": {
      "text/html": [
       "<table border='1'>\n",
       "<tr><th>InvoiceDate</th><th>Country</th><th>StockCode</th><th>Quantity</th><th>prediction</th></tr>\n",
       "<tr><td>2011-10-01</td><td>Spain</td><td>22962</td><td>12</td><td>12.484093374015284</td></tr>\n",
       "<tr><td>2011-10-01</td><td>Spain</td><td>22961</td><td>12</td><td>15.57978925066548</td></tr>\n",
       "<tr><td>2011-10-01</td><td>Spain</td><td>22960</td><td>6</td><td>12.312278532841782</td></tr>\n",
       "<tr><td>2011-10-01</td><td>Spain</td><td>22430</td><td>4</td><td>6.256139316166647</td></tr>\n",
       "<tr><td>2011-10-01</td><td>Spain</td><td>21547</td><td>6</td><td>6.617862290054388</td></tr>\n",
       "</table>\n"
      ],
      "text/plain": [
       "+-----------+-------+---------+--------+------------------+\n",
       "|InvoiceDate|Country|StockCode|Quantity|        prediction|\n",
       "+-----------+-------+---------+--------+------------------+\n",
       "| 2011-10-01|  Spain|    22962|      12|12.484093374015284|\n",
       "| 2011-10-01|  Spain|    22961|      12| 15.57978925066548|\n",
       "| 2011-10-01|  Spain|    22960|       6|12.312278532841782|\n",
       "| 2011-10-01|  Spain|    22430|       4| 6.256139316166647|\n",
       "| 2011-10-01|  Spain|    21547|       6| 6.617862290054388|\n",
       "+-----------+-------+---------+--------+------------------+"
      ]
     },
     "execution_count": 16,
     "metadata": {},
     "output_type": "execute_result"
    }
   ],
   "source": [
    "predictions_sold_w39 = predictions.where('week = 39 and year = 2011')\n",
    "predictions_sold_w39.select('InvoiceDate', 'Country', 'StockCode', 'Quantity', 'prediction').limit(5)"
   ]
  },
  {
   "cell_type": "code",
   "execution_count": 17,
   "id": "232fc872-5b5e-4b10-b490-e8ddec4afcd2",
   "metadata": {},
   "outputs": [
    {
     "data": {
      "text/plain": [
       "87848"
      ]
     },
     "execution_count": 17,
     "metadata": {},
     "output_type": "execute_result"
    }
   ],
   "source": [
    "quantity_sold_w39 = int(predictions_sold_w39.select(F.sum('prediction')).collect()[0][0])\n",
    "quantity_sold_w39"
   ]
  },
  {
   "cell_type": "markdown",
   "id": "9f626d3b-b5b5-425e-a34d-62d2588d89a4",
   "metadata": {},
   "source": [
    "# Close session"
   ]
  },
  {
   "cell_type": "code",
   "execution_count": 18,
   "id": "742adf4f-6ae2-4de8-9ddc-a3d5d54f3eef",
   "metadata": {},
   "outputs": [],
   "source": [
    "# Close session\n",
    "spark.stop()"
   ]
  }
 ],
 "metadata": {
  "colab": {
   "name": "Welcome to DataCamp Workspaces.ipynb",
   "provenance": []
  },
  "kernelspec": {
   "display_name": "Python 3 (ipykernel)",
   "language": "python",
   "name": "python3"
  },
  "language_info": {
   "codemirror_mode": {
    "name": "ipython",
    "version": 3
   },
   "file_extension": ".py",
   "mimetype": "text/x-python",
   "name": "python",
   "nbconvert_exporter": "python",
   "pygments_lexer": "ipython3",
   "version": "3.11.9"
  }
 },
 "nbformat": 4,
 "nbformat_minor": 5
}
